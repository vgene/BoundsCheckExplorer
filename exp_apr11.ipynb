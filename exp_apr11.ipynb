{
 "cells": [
  {
   "cell_type": "code",
   "execution_count": 9,
   "id": "latest-financing",
   "metadata": {},
   "outputs": [],
   "source": [
    "import pickle\n",
    "from ParseCallgrind import getColdLines, sortByHot, parseCallgrind, getAllUncheckedLines"
   ]
  },
  {
   "cell_type": "code",
   "execution_count": 2,
   "id": "confused-dynamics",
   "metadata": {},
   "outputs": [],
   "source": [
    "with open(\"./results/brotli_llvm11_vec_cargo_exp_3.pkl\", 'rb') as fd:\n",
    "    obj = pickle.load(fd)"
   ]
  },
  {
   "cell_type": "code",
   "execution_count": 3,
   "id": "complimentary-ottawa",
   "metadata": {},
   "outputs": [],
   "source": [
    "time_unsafe = obj['unsafe_baseline'][0]"
   ]
  },
  {
   "cell_type": "code",
   "execution_count": 25,
   "id": "peripheral-occasion",
   "metadata": {},
   "outputs": [],
   "source": [
    "impact_tuple = obj['impact_tuple']\n",
    "impact_one_check = obj['impact_tuple_one_uncheck']"
   ]
  },
  {
   "cell_type": "code",
   "execution_count": 7,
   "id": "acute-subject",
   "metadata": {},
   "outputs": [],
   "source": [
    "callgrind_fname = \"/u/ziyangx/brotli-expand.callgrind.out\"\n",
    "line_cnt = parseCallgrind(callgrind_fname)\n",
    "lib_fname = \"./brotli-expand/src/lib.rs\"\n",
    "lines = getAllUncheckedLines(lib_fname)"
   ]
  },
  {
   "cell_type": "code",
   "execution_count": 12,
   "id": "retained-jewel",
   "metadata": {},
   "outputs": [
    {
     "data": {
      "text/plain": [
       "125"
      ]
     },
     "execution_count": 12,
     "metadata": {},
     "output_type": "execute_result"
    }
   ],
   "source": [
    "## get rid of cold lines, and sort hot lines\n",
    "cold_lines = getColdLines(lines, callgrind_fname, 5000)\n",
    "hot_lines = lines.copy()\n",
    "for line in cold_lines:\n",
    "    hot_lines.remove(line)\n",
    "\n",
    "hot_lines = sortByHot(hot_lines, callgrind_fname)\n",
    "print(len(hot_lines), \"hot lines remaining\")"
   ]
  },
  {
   "cell_type": "code",
   "execution_count": 16,
   "id": "subjective-surprise",
   "metadata": {},
   "outputs": [
    {
     "data": {
      "text/plain": [
       "[18964,\n",
       " 20746,\n",
       " 20658,\n",
       " 21039,\n",
       " 20759,\n",
       " 21009,\n",
       " 21066,\n",
       " 20957,\n",
       " 21223,\n",
       " 11347,\n",
       " 20764,\n",
       " 21117,\n",
       " 21146,\n",
       " 21397,\n",
       " 20993,\n",
       " 21176,\n",
       " 18884,\n",
       " 18984,\n",
       " 21097,\n",
       " 21336]"
      ]
     },
     "execution_count": 16,
     "metadata": {},
     "output_type": "execute_result"
    }
   ],
   "source": [
    "hot_lines[:10]"
   ]
  },
  {
   "cell_type": "code",
   "execution_count": 27,
   "id": "innovative-issue",
   "metadata": {},
   "outputs": [],
   "source": [
    "time_unsafe = 2.017\n",
    "time_safe = 2.199\n",
    "slow_down_dict = {}\n",
    "speedup_dict = {}\n",
    "for line, time in impact_tuple:\n",
    "    if line in hot_lines:\n",
    "        slow_down_dict[line] = (time / time_unsafe - 1) * 100\n",
    "\n",
    "for line, time in impact_one_check:\n",
    "    if line in hot_lines:\n",
    "        speedup_dict[line] = (time_safe / time  - 1) * 100"
   ]
  },
  {
   "cell_type": "code",
   "execution_count": null,
   "id": "communist-essex",
   "metadata": {},
   "outputs": [],
   "source": [
    "def weight(hotness_list, ):"
   ]
  },
  {
   "cell_type": "code",
   "execution_count": 70,
   "id": "moderate-rochester",
   "metadata": {},
   "outputs": [
    {
     "name": "stdout",
     "output_type": "stream",
     "text": [
      "1 18964 675178192 1.4542616261774999 0.5881483262552001\n",
      "2 20746 600741624 0.5724501735250298 -0.1684650569366397\n",
      "3 20658 534971976 0.5037251859197012 -0.03889973261511637\n",
      "4 21039 336780064 1.5798214675260436 0.14844554576582958\n",
      "5 20759 257582916 0.5117743182945 0.5468565202928044\n",
      "6 21009 252706020 2.097793306891438 -0.07239375629196632\n",
      "7 21066 252702372 0.34843406048588044 -0.1470512897509102\n",
      "8 20957 171741420 1.8201975706494844 -0.4149742440992754\n",
      "9 21223 152922660 1.1142584035696679 -0.36485393683776124\n",
      "10 11347 119384364 0.8007657907783905 1.5287545158434002\n",
      "11 20764 114481296 0.45307828458105437 1.4070941254311409\n",
      "12 21117 57639240 0.013354437283097376 -0.19087358447154035\n",
      "13 21146 57639240 0.2459396132870717 -0.6195042958721975\n",
      "14 21397 50107428 1.8511829449677775 0.2646586659675876\n",
      "15 20993 49185410 0.32910109072881166 0.08510023523013999\n",
      "16 21176 48032210 0.3674498760535494 -0.9914108238910035\n",
      "17 18884 38408288 1.7877600396628557 0.26173464892533804\n",
      "18 18984 33760032 1.8292104115022356 -0.0464924263304578\n",
      "19 21097 32601360 0.33027050074367903 -0.7977777301922062\n",
      "20 21336 28620214 0.5870419434804264 -0.08678419215464306\n",
      "21 21392 27837460 1.2857841348537402 0.6143033975453127\n",
      "22 21087 24451020 0.6606543381259433 -0.6423279661421422\n",
      "23 18891 20142254 1.9399979176995652 -0.24602569006969555\n"
     ]
    }
   ],
   "source": [
    "for idx, line in enumerate(hot_lines[:23]):\n",
    "    print(idx + 1, line, line_cnt[line], slow_down_dict[line], speedup_dict[line])"
   ]
  },
  {
   "cell_type": "code",
   "execution_count": 53,
   "id": "unsigned-fence",
   "metadata": {},
   "outputs": [],
   "source": [
    "import SourceCorvair"
   ]
  },
  {
   "cell_type": "code",
   "execution_count": 55,
   "id": "brave-benchmark",
   "metadata": {},
   "outputs": [
    {
     "name": "stdout",
     "output_type": "stream",
     "text": [
      "binary generated\n"
     ]
    },
    {
     "data": {
      "text/plain": [
       "(2.187582931, 2.185392914, 2.197997328)"
      ]
     },
     "execution_count": 55,
     "metadata": {},
     "output_type": "execute_result"
    }
   ],
   "source": [
    "SourceCorvair.quickTestBrotli([])"
   ]
  },
  {
   "cell_type": "code",
   "execution_count": 61,
   "id": "lucky-confidentiality",
   "metadata": {},
   "outputs": [
    {
     "name": "stdout",
     "output_type": "stream",
     "text": [
      "binary generated\n"
     ]
    },
    {
     "data": {
      "text/plain": [
       "(2.168453251, 2.164824945, 2.184581687)"
      ]
     },
     "execution_count": 61,
     "metadata": {},
     "output_type": "execute_result"
    }
   ],
   "source": [
    "SourceCorvair.quickTestBrotli([11347])"
   ]
  },
  {
   "cell_type": "code",
   "execution_count": 56,
   "id": "united-robinson",
   "metadata": {},
   "outputs": [
    {
     "name": "stdout",
     "output_type": "stream",
     "text": [
      "binary generated\n"
     ]
    },
    {
     "data": {
      "text/plain": [
       "(2.173858176, 2.166887914, 2.205935539)"
      ]
     },
     "execution_count": 56,
     "metadata": {},
     "output_type": "execute_result"
    }
   ],
   "source": [
    "SourceCorvair.quickTestBrotli([18964, 21039])"
   ]
  },
  {
   "cell_type": "code",
   "execution_count": 54,
   "id": "spatial-specific",
   "metadata": {
    "scrolled": true
   },
   "outputs": [
    {
     "name": "stdout",
     "output_type": "stream",
     "text": [
      "binary generated\n"
     ]
    },
    {
     "data": {
      "text/plain": [
       "(2.170035064, 2.165223142, 2.182155287)"
      ]
     },
     "execution_count": 54,
     "metadata": {},
     "output_type": "execute_result"
    }
   ],
   "source": [
    "SourceCorvair.quickTestBrotli([18964])"
   ]
  },
  {
   "cell_type": "code",
   "execution_count": 58,
   "id": "invisible-martial",
   "metadata": {
    "scrolled": true
   },
   "outputs": [
    {
     "name": "stdout",
     "output_type": "stream",
     "text": [
      "binary generated\n"
     ]
    },
    {
     "data": {
      "text/plain": [
       "(2.084250373, 2.079109738, 2.104078659)"
      ]
     },
     "execution_count": 58,
     "metadata": {},
     "output_type": "execute_result"
    }
   ],
   "source": [
    "SourceCorvair.quickTestBrotli(hot_lines[:10])"
   ]
  },
  {
   "cell_type": "code",
   "execution_count": 59,
   "id": "unusual-alabama",
   "metadata": {
    "scrolled": true
   },
   "outputs": [
    {
     "name": "stdout",
     "output_type": "stream",
     "text": [
      "binary generated\n"
     ]
    },
    {
     "data": {
      "text/plain": [
       "(2.082507717, 2.076881381, 2.0978434)"
      ]
     },
     "execution_count": 59,
     "metadata": {},
     "output_type": "execute_result"
    }
   ],
   "source": [
    "test_lines = hot_lines[:10].copy()\n",
    "test_lines.remove(21223)\n",
    "SourceCorvair.quickTestBrotli(test_lines)"
   ]
  },
  {
   "cell_type": "code",
   "execution_count": 60,
   "id": "federal-sheet",
   "metadata": {},
   "outputs": [
    {
     "name": "stdout",
     "output_type": "stream",
     "text": [
      "binary generated\n"
     ]
    },
    {
     "data": {
      "text/plain": [
       "(2.078455088, 2.07562183, 2.103747445)"
      ]
     },
     "execution_count": 60,
     "metadata": {},
     "output_type": "execute_result"
    }
   ],
   "source": [
    "test_lines = hot_lines[:10].copy()\n",
    "test_lines.remove(21223)\n",
    "test_lines.remove(20957)\n",
    "SourceCorvair.quickTestBrotli(test_lines)"
   ]
  },
  {
   "cell_type": "code",
   "execution_count": 63,
   "id": "instructional-formation",
   "metadata": {},
   "outputs": [
    {
     "name": "stdout",
     "output_type": "stream",
     "text": [
      "binary generated\n"
     ]
    },
    {
     "data": {
      "text/plain": [
       "(2.07753457, 2.07298731, 2.094970427)"
      ]
     },
     "execution_count": 63,
     "metadata": {},
     "output_type": "execute_result"
    }
   ],
   "source": [
    "test_lines = hot_lines[:10].copy()\n",
    "test_lines.remove(21223)\n",
    "test_lines.remove(20957)\n",
    "test_lines.remove(21066)\n",
    "SourceCorvair.quickTestBrotli(test_lines)"
   ]
  },
  {
   "cell_type": "code",
   "execution_count": 64,
   "id": "residential-librarian",
   "metadata": {},
   "outputs": [
    {
     "name": "stdout",
     "output_type": "stream",
     "text": [
      "binary generated\n"
     ]
    },
    {
     "data": {
      "text/plain": [
       "(2.085914833, 2.072720223, 2.107203631)"
      ]
     },
     "execution_count": 64,
     "metadata": {},
     "output_type": "execute_result"
    }
   ],
   "source": [
    "test_lines = hot_lines[:10].copy()\n",
    "test_lines.remove(21223)\n",
    "test_lines.remove(20957)\n",
    "test_lines.remove(21066)\n",
    "test_lines.remove(21009)\n",
    "SourceCorvair.quickTestBrotli(test_lines)"
   ]
  },
  {
   "cell_type": "code",
   "execution_count": 65,
   "id": "dependent-retirement",
   "metadata": {
    "scrolled": true
   },
   "outputs": [
    {
     "name": "stdout",
     "output_type": "stream",
     "text": [
      "binary generated\n"
     ]
    },
    {
     "data": {
      "text/plain": [
       "(2.084104818, 2.083161316, 2.124639784)"
      ]
     },
     "execution_count": 65,
     "metadata": {},
     "output_type": "execute_result"
    }
   ],
   "source": [
    "test_lines = hot_lines[:10].copy()\n",
    "test_lines.remove(21223)\n",
    "test_lines.remove(20957)\n",
    "test_lines.remove(21066)\n",
    "test_lines.remove(21009)\n",
    "test_lines.remove(20759)\n",
    "SourceCorvair.quickTestBrotli(test_lines)"
   ]
  },
  {
   "cell_type": "code",
   "execution_count": 69,
   "id": "sophisticated-shuttle",
   "metadata": {},
   "outputs": [
    {
     "name": "stdout",
     "output_type": "stream",
     "text": [
      "binary generated\n",
      "(2.191773776, 2.187508769, 2.234673408)\n",
      "binary generated\n",
      "(2.164599457, 2.156389659, 2.184439187)\n",
      "Delta 0.02717431899999978\n",
      "binary generated\n",
      "(2.175531924, 2.158899775, 2.180457148)\n",
      "Delta 0.016241851999999835\n",
      "binary generated\n",
      "(2.089338197, 2.084769856, 2.126172829)\n",
      "Delta 0.10243557899999978\n"
     ]
    }
   ],
   "source": [
    "safe = SourceCorvair.quickTestBrotli([])\n",
    "print(safe)\n",
    "only10 = SourceCorvair.quickTestBrotli([11347])\n",
    "print(only10)\n",
    "print(\"Delta\", safe[0] - only10[0])\n",
    "only1 = SourceCorvair.quickTestBrotli([18964])\n",
    "print(only1)\n",
    "print(\"Delta\", safe[0] - only1[0])\n",
    "both1and10 = SourceCorvair.quickTestBrotli([18964, 11347])\n",
    "print(both1and10)\n",
    "print(\"Delta\", safe[0] - both1and10[0])\n"
   ]
  },
  {
   "cell_type": "code",
   "execution_count": 76,
   "id": "paperback-measure",
   "metadata": {},
   "outputs": [
    {
     "name": "stdout",
     "output_type": "stream",
     "text": [
      "binary generated\n"
     ]
    },
    {
     "data": {
      "text/plain": [
       "(2.19683821, 2.19285521, 2.213295733)"
      ]
     },
     "execution_count": 76,
     "metadata": {},
     "output_type": "execute_result"
    }
   ],
   "source": [
    "SourceCorvair.quickTestBrotli([18984])"
   ]
  },
  {
   "cell_type": "code",
   "execution_count": 77,
   "id": "human-finder",
   "metadata": {},
   "outputs": [
    {
     "name": "stdout",
     "output_type": "stream",
     "text": [
      "binary generated\n"
     ]
    },
    {
     "data": {
      "text/plain": [
       "(2.202225603, 2.196102151, 2.207753575)"
      ]
     },
     "execution_count": 77,
     "metadata": {},
     "output_type": "execute_result"
    }
   ],
   "source": [
    "SourceCorvair.quickTestBrotli([18984, 18891])"
   ]
  },
  {
   "cell_type": "code",
   "execution_count": 75,
   "id": "spoken-encyclopedia",
   "metadata": {},
   "outputs": [
    {
     "name": "stdout",
     "output_type": "stream",
     "text": [
      "binary generated\n"
     ]
    },
    {
     "data": {
      "text/plain": [
       "(2.087341625, 2.083723728, 2.118031302)"
      ]
     },
     "execution_count": 75,
     "metadata": {},
     "output_type": "execute_result"
    }
   ],
   "source": [
    "SourceCorvair.quickTestBrotli([18964, 11347, 18984])"
   ]
  },
  {
   "cell_type": "code",
   "execution_count": 74,
   "id": "lovely-delaware",
   "metadata": {},
   "outputs": [
    {
     "name": "stdout",
     "output_type": "stream",
     "text": [
      "binary generated\n",
      "(2.112045948, 2.104828986, 2.125657433)\n"
     ]
    }
   ],
   "source": [
    "both1and10and23 = SourceCorvair.quickTestBrotli([18964, 11347, 18891])\n",
    "print(both1and10and23)"
   ]
  },
  {
   "cell_type": "code",
   "execution_count": 73,
   "id": "incoming-burke",
   "metadata": {},
   "outputs": [
    {
     "name": "stdout",
     "output_type": "stream",
     "text": [
      "binary generated\n"
     ]
    },
    {
     "data": {
      "text/plain": [
       "(2.078229034, 2.07567002, 2.111734189)"
      ]
     },
     "execution_count": 73,
     "metadata": {},
     "output_type": "execute_result"
    }
   ],
   "source": [
    "SourceCorvair.quickTestBrotli([18964, 11347, 18891, 18884])"
   ]
  },
  {
   "cell_type": "code",
   "execution_count": 85,
   "id": "ahead-vienna",
   "metadata": {},
   "outputs": [
    {
     "name": "stdout",
     "output_type": "stream",
     "text": [
      "binary generated\n"
     ]
    },
    {
     "data": {
      "text/plain": [
       "(2.073614428, 2.059450088, 2.10200995)"
      ]
     },
     "execution_count": 85,
     "metadata": {},
     "output_type": "execute_result"
    }
   ],
   "source": [
    "test_list = [18964, 11347]\n",
    "test_list.extend(hot_lines[10:23])\n",
    "SourceCorvair.quickTestBrotli(test_list)"
   ]
  },
  {
   "cell_type": "code",
   "execution_count": 90,
   "id": "integrated-intake",
   "metadata": {},
   "outputs": [
    {
     "name": "stdout",
     "output_type": "stream",
     "text": [
      "binary generated\n"
     ]
    },
    {
     "data": {
      "text/plain": [
       "(2.035441482, 2.027538027, 2.06797011)"
      ]
     },
     "execution_count": 90,
     "metadata": {},
     "output_type": "execute_result"
    }
   ],
   "source": [
    "SourceCorvair.quickTestBrotli(hot_lines)"
   ]
  },
  {
   "cell_type": "code",
   "execution_count": 91,
   "id": "enclosed-helen",
   "metadata": {},
   "outputs": [
    {
     "name": "stdout",
     "output_type": "stream",
     "text": [
      "binary generated\n"
     ]
    },
    {
     "data": {
      "text/plain": [
       "(2.051129184, 2.038793122, 2.07372246)"
      ]
     },
     "execution_count": 91,
     "metadata": {},
     "output_type": "execute_result"
    }
   ],
   "source": [
    "SourceCorvair.quickTestBrotli(hot_lines[:23])"
   ]
  },
  {
   "cell_type": "code",
   "execution_count": 111,
   "id": "improving-devil",
   "metadata": {},
   "outputs": [
    {
     "data": {
      "text/plain": [
       "<module 'SourceCorvair' from '/scratch/ziyangx/BoundsCheckExplorer/SourceCorvair.py'>"
      ]
     },
     "execution_count": 111,
     "metadata": {},
     "output_type": "execute_result"
    }
   ],
   "source": [
    "importlib.reload(SourceCorvair)"
   ]
  },
  {
   "cell_type": "code",
   "execution_count": 122,
   "id": "promising-execution",
   "metadata": {},
   "outputs": [],
   "source": [
    "def explore(threshold, inital_unsafe_list, initial_sensitiviy=0.001):\n",
    "\n",
    "    cur_unsafe = inital_unsafe_list.copy()\n",
    "    cur_baseline = SourceCorvair.quickTestBrotli(cur_unsafe, test_times=10)[1]\n",
    "    print(\"Initial baseline:\", cur_baseline)\n",
    "    runs_cnt = 0\n",
    "    round_cnt = 0\n",
    "    sensitivity = initial_sensitiviy\n",
    "    \n",
    "    while len(cur_unsafe) > 0 and sensitivity > 0 and cur_baseline * (1 + initial_sensitiviy) < threshold:\n",
    "        runs_count_this_round = len(cur_unsafe)\n",
    "        # remove line one by one and test\n",
    "        next_unsafe = cur_unsafe.copy()\n",
    "        \n",
    "        # generating exps\n",
    "        print(\"Generating exps\")\n",
    "        SourceCorvair.quickTestBrotliGenAllRoundExp(cur_unsafe)\n",
    "        \n",
    "        # run exps\n",
    "        for idx, line in enumerate(cur_unsafe):\n",
    "            print(\"Testing with\", len(cur_unsafe) - 1, \"get_unchecked, with\", line, \"removed\")\n",
    "            exp_time = SourceCorvair.quickTestExpWithName(idx, 10, 1)\n",
    "            print(exp_time)\n",
    "            \n",
    "            # if the new time does not exceed threshold, and \n",
    "            if exp_time < threshold and exp_time < cur_baseline * (1 + sensitivity):\n",
    "                next_unsafe.remove(line)\n",
    "\n",
    "        runs_cnt += runs_count_this_round\n",
    "        round_cnt += 1\n",
    "        removed_lines = len(cur_unsafe) - len(next_unsafe)\n",
    "        cur_unsafe = next_unsafe\n",
    "        # remeasure the baseline, using the best count\n",
    "        cur_baseline = SourceCorvair.quickTestBrotli(cur_unsafe, test_times=10)[1]\n",
    "        \n",
    "        print(\"### Round\", round_cnt, \": \", runs_count_this_round, \"runs,\", len(cur_unsafe), \"get_unchecked left\"  )\n",
    "        print(\"### New baseline:\", cur_baseline)\n",
    "        # increase sensitivity\n",
    "        if removed_lines == 0:\n",
    "            sensitivity *= 2\n",
    "            if cur_baseline * (1 + sensitivity) > threshold:\n",
    "                break\n",
    "            print(\"Increase sensitivity to \", sensitivity)\n",
    "        else:\n",
    "            sensitivity = initial_sensitiviy\n",
    "            if cur_baseline * (1 + sensitivity) > threshold:\n",
    "                sensitivity = threshold/cur_baseline - 1\n",
    "            print(\"Keep initial sensitivity\", sensitivity)\n",
    "\n",
    "    return cur_unsafe, cur_baseline"
   ]
  },
  {
   "cell_type": "code",
   "execution_count": 99,
   "id": "occasional-christian",
   "metadata": {},
   "outputs": [
    {
     "name": "stdout",
     "output_type": "stream",
     "text": [
      "binary generated\n",
      "Initial baseline: 2.022539648\n",
      "Generating exps\n",
      "Testing with 15 get_unchecked, with 18964 removed\n",
      "2.055521883\n",
      "Testing with 15 get_unchecked, with 20746 removed\n",
      "2.022419071\n",
      "Testing with 15 get_unchecked, with 20658 removed\n",
      "2.0316217\n",
      "Testing with 15 get_unchecked, with 21039 removed\n",
      "2.03187855\n",
      "Testing with 15 get_unchecked, with 20759 removed\n",
      "2.0272102395\n",
      "Testing with 15 get_unchecked, with 21009 removed\n",
      "2.027743003\n",
      "Testing with 15 get_unchecked, with 21066 removed\n",
      "2.031103275\n",
      "Testing with 15 get_unchecked, with 20957 removed\n",
      "2.0264606255\n",
      "Testing with 15 get_unchecked, with 21223 removed\n",
      "2.0267634335\n",
      "Testing with 15 get_unchecked, with 11347 removed\n",
      "2.0413950439999997\n",
      "Testing with 15 get_unchecked, with 20764 removed\n",
      "2.0454132355\n",
      "Testing with 15 get_unchecked, with 21117 removed\n",
      "2.0275769565\n",
      "Testing with 15 get_unchecked, with 21146 removed\n",
      "2.023461986\n",
      "Testing with 15 get_unchecked, with 21397 removed\n",
      "2.0276075875\n",
      "Testing with 15 get_unchecked, with 20993 removed\n",
      "2.027404108\n",
      "Testing with 15 get_unchecked, with 21176 removed\n",
      "2.035831693\n",
      "Testing with 15 get_unchecked, with 18884 removed\n",
      "2.0582298265\n",
      "Testing with 15 get_unchecked, with 18984 removed\n",
      "2.054799943\n",
      "Testing with 15 get_unchecked, with 21097 removed\n",
      "2.0303015584999997\n",
      "Testing with 15 get_unchecked, with 21336 removed\n",
      "2.0273788340000003\n",
      "Testing with 15 get_unchecked, with 21392 removed\n",
      "2.045091886\n",
      "Testing with 15 get_unchecked, with 21087 removed\n",
      "2.0338778135\n",
      "Testing with 15 get_unchecked, with 18891 removed\n",
      "2.05947215\n",
      "Testing with 15 get_unchecked, with 21154 removed\n",
      "2.0254062575000003\n",
      "Testing with 15 get_unchecked, with 20677 removed\n",
      "2.028699569\n",
      "Testing with 15 get_unchecked, with 19070 removed\n",
      "2.0398455794999997\n",
      "Testing with 15 get_unchecked, with 19646 removed\n",
      "2.030477118\n",
      "Testing with 15 get_unchecked, with 12115 removed\n",
      "2.0385484725\n",
      "Testing with 15 get_unchecked, with 20624 removed\n",
      "2.0262755465\n",
      "Testing with 15 get_unchecked, with 19081 removed\n",
      "2.0283946655\n",
      "Testing with 15 get_unchecked, with 19184 removed\n",
      "2.026996295\n",
      "Testing with 15 get_unchecked, with 21218 removed\n",
      "2.0269108485\n",
      "Testing with 15 get_unchecked, with 11903 removed\n",
      "2.033955651\n",
      "Testing with 15 get_unchecked, with 19125 removed\n",
      "2.0334337575\n",
      "Testing with 15 get_unchecked, with 19647 removed\n",
      "2.0351106349999997\n",
      "Testing with 15 get_unchecked, with 11911 removed\n",
      "2.0430537375\n",
      "Testing with 15 get_unchecked, with 19077 removed\n",
      "2.0254970859999997\n",
      "Testing with 15 get_unchecked, with 11896 removed\n",
      "2.033677806\n",
      "Testing with 15 get_unchecked, with 19473 removed\n",
      "2.0415177765\n",
      "Testing with 15 get_unchecked, with 12084 removed\n",
      "2.03181501\n",
      "Testing with 15 get_unchecked, with 12220 removed\n",
      "2.030178104\n",
      "Testing with 15 get_unchecked, with 19651 removed\n",
      "2.0257227775\n",
      "Testing with 15 get_unchecked, with 19321 removed\n",
      "2.030953165\n",
      "Testing with 15 get_unchecked, with 19642 removed\n",
      "2.0252203765\n",
      "Testing with 15 get_unchecked, with 12221 removed\n",
      "2.051081136\n",
      "Testing with 15 get_unchecked, with 12105 removed\n",
      "2.029995682\n",
      "Testing with 15 get_unchecked, with 19638 removed\n",
      "2.0261589795\n",
      "Testing with 15 get_unchecked, with 19330 removed\n",
      "2.016744667\n",
      "Testing with 15 get_unchecked, with 19337 removed\n",
      "2.0216513055\n",
      "Testing with 15 get_unchecked, with 12070 removed\n",
      "2.0290272519999997\n",
      "Testing with 15 get_unchecked, with 12045 removed\n",
      "2.0300644785\n",
      "Testing with 15 get_unchecked, with 11945 removed\n",
      "2.0324297455\n",
      "Testing with 15 get_unchecked, with 11952 removed\n",
      "2.038618893\n",
      "Testing with 15 get_unchecked, with 19138 removed\n",
      "2.0340722935\n",
      "Testing with 15 get_unchecked, with 20159 removed\n",
      "2.0322997555\n",
      "Testing with 15 get_unchecked, with 11525 removed\n",
      "2.0333258925\n",
      "Testing with 15 get_unchecked, with 11944 removed\n",
      "2.0320174595\n",
      "Testing with 15 get_unchecked, with 11933 removed\n",
      "2.0297191850000003\n",
      "Testing with 15 get_unchecked, with 20164 removed\n",
      "2.0299961885\n",
      "Testing with 15 get_unchecked, with 20169 removed\n",
      "2.031504066\n",
      "Testing with 15 get_unchecked, with 20174 removed\n",
      "2.0343241164999997\n",
      "Testing with 15 get_unchecked, with 19121 removed\n",
      "2.0298725435\n",
      "Testing with 15 get_unchecked, with 12065 removed\n",
      "2.028127122\n",
      "Testing with 15 get_unchecked, with 11957 removed\n",
      "2.0374292714999998\n",
      "Testing with 15 get_unchecked, with 12041 removed\n",
      "2.023796824\n",
      "Testing with 15 get_unchecked, with 20613 removed\n",
      "2.027425002\n",
      "Testing with 15 get_unchecked, with 11985 removed\n",
      "2.0238530175\n",
      "Testing with 15 get_unchecked, with 11988 removed\n",
      "2.0296775934999998\n",
      "Testing with 15 get_unchecked, with 20094 removed\n",
      "2.0260285965\n",
      "Testing with 15 get_unchecked, with 20128 removed\n",
      "2.0262089845\n",
      "Testing with 15 get_unchecked, with 12017 removed\n",
      "2.0348919025\n",
      "Testing with 15 get_unchecked, with 20134 removed\n",
      "2.0284515835\n",
      "Testing with 15 get_unchecked, with 11963 removed\n",
      "2.026410276\n",
      "Testing with 15 get_unchecked, with 21060 removed\n",
      "2.0334999954999997\n",
      "Testing with 15 get_unchecked, with 11934 removed\n",
      "2.02654899\n",
      "Testing with 15 get_unchecked, with 11937 removed\n",
      "2.025447776\n",
      "Testing with 15 get_unchecked, with 21023 removed\n",
      "2.024759128\n",
      "Testing with 15 get_unchecked, with 20083 removed\n",
      "2.029813921\n",
      "Testing with 15 get_unchecked, with 20200 removed\n",
      "2.0289817325\n",
      "Testing with 15 get_unchecked, with 20206 removed\n",
      "2.0233309865\n",
      "Testing with 15 get_unchecked, with 20291 removed\n",
      "2.0278898255\n",
      "Testing with 15 get_unchecked, with 20752 removed\n",
      "2.050792587\n",
      "Testing with 15 get_unchecked, with 20665 removed\n",
      "2.034086315\n",
      "Testing with 15 get_unchecked, with 20209 removed\n",
      "2.032554353\n",
      "Testing with 15 get_unchecked, with 20295 removed\n",
      "2.0167889745\n",
      "Testing with 15 get_unchecked, with 20247 removed\n",
      "2.0251539650000003\n",
      "Testing with 15 get_unchecked, with 20153 removed\n",
      "2.0324979555000002\n",
      "Testing with 15 get_unchecked, with 20133 removed\n",
      "2.0311690899999997\n",
      "Testing with 15 get_unchecked, with 20135 removed\n",
      "2.0315803619999997\n",
      "Testing with 15 get_unchecked, with 18921 removed\n",
      "2.0295726845\n",
      "Testing with 15 get_unchecked, with 20130 removed\n",
      "2.0274493495000003\n",
      "binary generated\n",
      "Round 1 :  91 runs, 83 get_unchecked left\n",
      "Increase sensitivity to  0.002\n",
      "Generating exps\n",
      "Testing with 15 get_unchecked, with 18964 removed\n",
      "2.0500105360000003\n",
      "Testing with 15 get_unchecked, with 20658 removed\n",
      "2.026758308\n",
      "Testing with 15 get_unchecked, with 21039 removed\n",
      "2.068320451\n",
      "Testing with 15 get_unchecked, with 20759 removed\n",
      "2.0307517204999996\n",
      "Testing with 15 get_unchecked, with 21009 removed\n",
      "2.0328996505\n",
      "Testing with 15 get_unchecked, with 21066 removed\n",
      "2.0332059915\n",
      "Testing with 15 get_unchecked, with 20957 removed\n",
      "2.0290130445\n",
      "Testing with 15 get_unchecked, with 21223 removed\n",
      "2.029166074\n",
      "Testing with 15 get_unchecked, with 21176 removed\n",
      "2.0268129\n",
      "Testing with 15 get_unchecked, with 18884 removed\n",
      "2.059355955\n",
      "Testing with 15 get_unchecked, with 18984 removed\n",
      "2.0351950115\n",
      "Testing with 15 get_unchecked, with 21097 removed\n",
      "2.0398927735\n",
      "Testing with 15 get_unchecked, with 21336 removed\n",
      "2.0285720735\n",
      "Testing with 15 get_unchecked, with 21392 removed\n",
      "2.0497259205\n",
      "Testing with 15 get_unchecked, with 21087 removed\n",
      "2.0413583940000004\n",
      "Testing with 15 get_unchecked, with 18891 removed\n",
      "2.0645264825\n",
      "Testing with 15 get_unchecked, with 21154 removed\n",
      "2.0287869470000004\n",
      "Testing with 15 get_unchecked, with 20677 removed\n",
      "2.028128898\n",
      "Testing with 15 get_unchecked, with 19070 removed\n",
      "2.041002097\n",
      "Testing with 15 get_unchecked, with 19646 removed\n",
      "2.028852265\n",
      "Testing with 15 get_unchecked, with 12115 removed\n",
      "2.0345864049999998\n",
      "Testing with 15 get_unchecked, with 20624 removed\n",
      "2.033310063\n",
      "Testing with 15 get_unchecked, with 19081 removed\n",
      "2.0283269225\n",
      "Testing with 15 get_unchecked, with 19184 removed\n",
      "2.0277495725000003\n",
      "Testing with 15 get_unchecked, with 21218 removed\n",
      "2.0320416165\n",
      "Testing with 15 get_unchecked, with 11903 removed\n",
      "2.0283131415\n",
      "Testing with 15 get_unchecked, with 19125 removed\n",
      "2.0358426705\n",
      "Testing with 15 get_unchecked, with 19647 removed\n",
      "2.027732581\n",
      "Testing with 15 get_unchecked, with 11911 removed\n",
      "2.044123375\n",
      "Testing with 15 get_unchecked, with 19077 removed\n",
      "2.0281919745000003\n",
      "Testing with 15 get_unchecked, with 11896 removed\n",
      "2.0292707605\n",
      "Testing with 15 get_unchecked, with 19473 removed\n",
      "2.0263338765\n",
      "Testing with 15 get_unchecked, with 12084 removed\n",
      "2.0333353125\n",
      "Testing with 15 get_unchecked, with 12220 removed\n",
      "2.0277608695\n",
      "Testing with 15 get_unchecked, with 19651 removed\n",
      "2.033494211\n",
      "Testing with 15 get_unchecked, with 19321 removed\n"
     ]
    },
    {
     "name": "stdout",
     "output_type": "stream",
     "text": [
      "2.0288803555\n",
      "Testing with 15 get_unchecked, with 19642 removed\n",
      "2.025524973\n",
      "Testing with 15 get_unchecked, with 12221 removed\n",
      "2.025507503\n",
      "Testing with 15 get_unchecked, with 12105 removed\n",
      "2.0270798809999997\n",
      "Testing with 15 get_unchecked, with 19638 removed\n",
      "2.0309318215\n",
      "Testing with 15 get_unchecked, with 12070 removed\n",
      "2.029560946\n",
      "Testing with 15 get_unchecked, with 12045 removed\n",
      "2.023399502\n",
      "Testing with 15 get_unchecked, with 11945 removed\n",
      "2.032989768\n",
      "Testing with 15 get_unchecked, with 11952 removed\n",
      "2.0294396150000003\n",
      "Testing with 15 get_unchecked, with 19138 removed\n",
      "2.0317782945\n",
      "Testing with 15 get_unchecked, with 20159 removed\n",
      "2.033752433\n",
      "Testing with 15 get_unchecked, with 11525 removed\n",
      "2.034134568\n",
      "Testing with 15 get_unchecked, with 11944 removed\n",
      "2.03331062\n",
      "Testing with 15 get_unchecked, with 11933 removed\n",
      "2.0281685695\n",
      "Testing with 15 get_unchecked, with 20164 removed\n",
      "2.0304248575\n",
      "Testing with 15 get_unchecked, with 20169 removed\n",
      "2.0318070385\n",
      "Testing with 15 get_unchecked, with 20174 removed\n",
      "2.0299519615\n",
      "Testing with 15 get_unchecked, with 19121 removed\n",
      "2.0222285225\n",
      "Testing with 15 get_unchecked, with 12065 removed\n",
      "2.0302995839999998\n",
      "Testing with 15 get_unchecked, with 11957 removed\n",
      "2.02478604\n",
      "Testing with 15 get_unchecked, with 20613 removed\n",
      "2.0272086195\n",
      "Testing with 15 get_unchecked, with 11988 removed\n",
      "2.0238427825\n",
      "Testing with 15 get_unchecked, with 20094 removed\n",
      "2.0371215444999997\n",
      "Testing with 15 get_unchecked, with 20128 removed\n",
      "2.028075518\n",
      "Testing with 15 get_unchecked, with 12017 removed\n",
      "2.0256978715000002\n",
      "Testing with 15 get_unchecked, with 20134 removed\n",
      "2.0315670645\n",
      "Testing with 15 get_unchecked, with 11963 removed\n",
      "2.028019223\n",
      "Testing with 15 get_unchecked, with 21060 removed\n",
      "2.049494664\n",
      "Testing with 15 get_unchecked, with 11934 removed\n",
      "2.0280152475\n",
      "Testing with 15 get_unchecked, with 11937 removed\n",
      "2.027820375\n",
      "Testing with 15 get_unchecked, with 21023 removed\n",
      "2.0295174545\n",
      "Testing with 15 get_unchecked, with 20083 removed\n",
      "2.030621864\n",
      "Testing with 15 get_unchecked, with 20200 removed\n",
      "2.050697802\n",
      "Testing with 15 get_unchecked, with 20291 removed\n",
      "2.0265124224999997\n",
      "Testing with 15 get_unchecked, with 20752 removed\n",
      "2.0365840105\n",
      "Testing with 15 get_unchecked, with 20665 removed\n",
      "2.030974223\n",
      "Testing with 15 get_unchecked, with 20209 removed\n",
      "2.030409013\n",
      "Testing with 15 get_unchecked, with 20247 removed\n",
      "2.0328403035\n",
      "Testing with 15 get_unchecked, with 20153 removed\n",
      "2.030524785\n",
      "Testing with 15 get_unchecked, with 20133 removed\n",
      "2.0301181575\n",
      "Testing with 15 get_unchecked, with 20135 removed\n",
      "2.0291226929999997\n",
      "Testing with 15 get_unchecked, with 18921 removed\n",
      "2.0260500565\n",
      "Testing with 15 get_unchecked, with 20130 removed\n",
      "2.027466426\n",
      "binary generated\n",
      "Round 2 :  83 runs, 16 get_unchecked left\n",
      "Increase sensitivity to  -0.01802456036735045\n"
     ]
    }
   ],
   "source": [
    "final_unsafe, final_baseline = explore(2.05, hot_lines)"
   ]
  },
  {
   "cell_type": "code",
   "execution_count": 101,
   "id": "metropolitan-czech",
   "metadata": {},
   "outputs": [
    {
     "name": "stdout",
     "output_type": "stream",
     "text": [
      "[18964, 21039, 11347, 20764, 21397, 18884, 21097, 21392, 21087, 18891, 19070, 11911, 20094, 21060, 20200, 20752]\n",
      "2.0876285875000002\n"
     ]
    }
   ],
   "source": [
    "print(final_unsafe)\n",
    "print(final_baseline)"
   ]
  },
  {
   "cell_type": "code",
   "execution_count": 113,
   "id": "stone-rebel",
   "metadata": {},
   "outputs": [
    {
     "name": "stdout",
     "output_type": "stream",
     "text": [
      "binary generated\n",
      "Initial baseline: 2.018222943\n",
      "Generating exps\n",
      "Testing with 215 get_unchecked, with 11347 removed\n",
      "2.031487983\n",
      "Testing with 215 get_unchecked, with 11401 removed\n",
      "2.0160083\n",
      "Testing with 215 get_unchecked, with 11402 removed\n",
      "2.014866196\n",
      "Testing with 215 get_unchecked, with 11525 removed\n",
      "2.028502072\n",
      "Testing with 215 get_unchecked, with 11529 removed\n",
      "2.01624271\n",
      "Testing with 215 get_unchecked, with 11654 removed\n",
      "2.018213867\n",
      "Testing with 215 get_unchecked, with 11664 removed\n",
      "2.019394537\n",
      "Testing with 215 get_unchecked, with 11672 removed\n",
      "2.021387564\n",
      "Testing with 215 get_unchecked, with 11675 removed\n",
      "2.027632841\n",
      "Testing with 215 get_unchecked, with 11818 removed\n",
      "2.017061818\n",
      "Testing with 215 get_unchecked, with 11825 removed\n",
      "2.01714103\n",
      "Testing with 215 get_unchecked, with 11896 removed\n",
      "2.02292654\n",
      "Testing with 215 get_unchecked, with 11903 removed\n",
      "2.023742614\n",
      "Testing with 215 get_unchecked, with 11911 removed\n",
      "2.017817451\n",
      "Testing with 215 get_unchecked, with 11933 removed\n",
      "2.015022282\n",
      "Testing with 215 get_unchecked, with 11934 removed\n",
      "2.01590732\n",
      "Testing with 215 get_unchecked, with 11937 removed\n",
      "2.014769206\n",
      "Testing with 215 get_unchecked, with 11944 removed\n",
      "2.026965244\n",
      "Testing with 215 get_unchecked, with 11945 removed\n",
      "2.021305209\n",
      "Testing with 215 get_unchecked, with 11951 removed\n",
      "2.029690509\n",
      "Testing with 215 get_unchecked, with 11952 removed\n",
      "2.023949502\n",
      "Testing with 215 get_unchecked, with 11957 removed\n",
      "2.024062724\n",
      "Testing with 215 get_unchecked, with 11963 removed\n",
      "2.017805346\n",
      "Testing with 215 get_unchecked, with 11967 removed\n",
      "2.015607952\n",
      "Testing with 215 get_unchecked, with 11985 removed\n",
      "2.01520418\n",
      "Testing with 215 get_unchecked, with 11988 removed\n",
      "2.024695827\n",
      "Testing with 215 get_unchecked, with 12017 removed\n",
      "2.026264053\n",
      "Testing with 215 get_unchecked, with 12041 removed\n",
      "2.016708752\n",
      "Testing with 215 get_unchecked, with 12045 removed\n",
      "2.018079034\n",
      "Testing with 215 get_unchecked, with 12065 removed\n",
      "2.02975964\n",
      "Testing with 215 get_unchecked, with 12070 removed\n",
      "2.014928313\n",
      "Testing with 215 get_unchecked, with 12084 removed\n",
      "2.024387004\n",
      "Testing with 215 get_unchecked, with 12093 removed\n",
      "2.018988648\n",
      "Testing with 215 get_unchecked, with 12096 removed\n",
      "2.019304475\n",
      "Testing with 215 get_unchecked, with 12105 removed\n",
      "2.014553049\n",
      "Testing with 215 get_unchecked, with 12115 removed\n",
      "2.026162926\n",
      "Testing with 215 get_unchecked, with 12132 removed\n",
      "2.017207254\n",
      "Testing with 215 get_unchecked, with 12133 removed\n",
      "2.018123822\n",
      "Testing with 215 get_unchecked, with 12134 removed\n",
      "2.014914981\n",
      "Testing with 215 get_unchecked, with 12136 removed\n",
      "2.014030582\n",
      "Testing with 215 get_unchecked, with 12137 removed\n",
      "2.017369035\n",
      "Testing with 215 get_unchecked, with 12138 removed\n",
      "2.017476447\n",
      "Testing with 215 get_unchecked, with 12139 removed\n",
      "2.02026664\n",
      "Testing with 215 get_unchecked, with 12140 removed\n",
      "2.017453413\n",
      "Testing with 215 get_unchecked, with 12141 removed\n",
      "2.015041332\n",
      "Testing with 215 get_unchecked, with 12142 removed\n",
      "2.014982638\n",
      "Testing with 215 get_unchecked, with 12143 removed\n",
      "2.015149904\n",
      "Testing with 215 get_unchecked, with 12145 removed\n",
      "2.014978133\n",
      "Testing with 215 get_unchecked, with 12146 removed\n",
      "2.014497785\n",
      "Testing with 215 get_unchecked, with 12147 removed\n",
      "2.018093872\n",
      "Testing with 215 get_unchecked, with 12148 removed\n",
      "2.01857297\n",
      "Testing with 215 get_unchecked, with 12152 removed\n",
      "2.016391394\n",
      "Testing with 215 get_unchecked, with 12153 removed\n",
      "2.014671616\n",
      "Testing with 215 get_unchecked, with 12154 removed\n",
      "2.014391421\n",
      "Testing with 215 get_unchecked, with 12155 removed\n",
      "2.014080634\n",
      "Testing with 215 get_unchecked, with 12156 removed\n",
      "2.014781396\n",
      "Testing with 215 get_unchecked, with 12157 removed\n",
      "2.015289186\n",
      "Testing with 215 get_unchecked, with 12158 removed\n",
      "2.016643967\n",
      "Testing with 215 get_unchecked, with 12159 removed\n",
      "2.019291339\n",
      "Testing with 215 get_unchecked, with 12160 removed\n",
      "2.018330076\n",
      "Testing with 215 get_unchecked, with 12161 removed\n",
      "2.015683345\n",
      "Testing with 215 get_unchecked, with 12162 removed\n",
      "2.015952045\n",
      "Testing with 215 get_unchecked, with 12163 removed\n",
      "2.017111984\n",
      "Testing with 215 get_unchecked, with 12165 removed\n",
      "2.015330395\n",
      "Testing with 215 get_unchecked, with 12166 removed\n",
      "2.017395721\n",
      "Testing with 215 get_unchecked, with 12167 removed\n",
      "2.01680589\n",
      "Testing with 215 get_unchecked, with 12168 removed\n",
      "2.015768424\n",
      "Testing with 215 get_unchecked, with 12170 removed\n",
      "2.017719329\n",
      "Testing with 215 get_unchecked, with 12171 removed\n",
      "2.01507946\n",
      "Testing with 215 get_unchecked, with 12176 removed\n",
      "2.017599883\n",
      "Testing with 215 get_unchecked, with 12179 removed\n",
      "2.015350321\n",
      "Testing with 215 get_unchecked, with 12180 removed\n",
      "2.016542169\n",
      "Testing with 215 get_unchecked, with 12181 removed\n",
      "2.017218023\n",
      "Testing with 215 get_unchecked, with 12188 removed\n",
      "2.018967021\n",
      "Testing with 215 get_unchecked, with 12190 removed\n",
      "2.015660877\n",
      "Testing with 215 get_unchecked, with 12191 removed\n",
      "2.014119069\n",
      "Testing with 215 get_unchecked, with 12192 removed\n",
      "2.015303092\n",
      "Testing with 215 get_unchecked, with 12193 removed\n",
      "2.016446314\n",
      "Testing with 215 get_unchecked, with 12197 removed\n",
      "2.018835997\n",
      "Testing with 215 get_unchecked, with 12198 removed\n",
      "2.013741838\n",
      "Testing with 215 get_unchecked, with 12199 removed\n",
      "2.013386144\n",
      "Testing with 215 get_unchecked, with 12200 removed\n",
      "2.01826405\n",
      "Testing with 215 get_unchecked, with 12203 removed\n",
      "2.019553767\n",
      "Testing with 215 get_unchecked, with 12204 removed\n",
      "2.015816758\n",
      "Testing with 215 get_unchecked, with 12207 removed\n",
      "2.018988281\n",
      "Testing with 215 get_unchecked, with 12208 removed\n",
      "2.018131533\n",
      "Testing with 215 get_unchecked, with 12209 removed\n",
      "2.024015776\n",
      "Testing with 215 get_unchecked, with 12210 removed\n",
      "2.017790256\n",
      "Testing with 215 get_unchecked, with 12211 removed\n",
      "2.015954955\n",
      "Testing with 215 get_unchecked, with 12212 removed\n",
      "2.01457983\n",
      "Testing with 215 get_unchecked, with 12220 removed\n",
      "2.023236852\n",
      "Testing with 215 get_unchecked, with 12221 removed\n",
      "2.019796618\n",
      "Testing with 215 get_unchecked, with 18371 removed\n",
      "2.021764672\n",
      "Testing with 215 get_unchecked, with 18372 removed\n",
      "2.022771608\n",
      "Testing with 215 get_unchecked, with 18373 removed\n",
      "2.022465479\n",
      "Testing with 215 get_unchecked, with 18374 removed\n",
      "2.022381642\n",
      "Testing with 215 get_unchecked, with 18378 removed\n",
      "2.015612879\n",
      "Testing with 215 get_unchecked, with 18379 removed\n",
      "2.021094895\n",
      "Testing with 215 get_unchecked, with 18382 removed\n",
      "2.019845819\n",
      "Testing with 215 get_unchecked, with 18391 removed\n",
      "2.015073264\n",
      "Testing with 215 get_unchecked, with 18396 removed\n",
      "2.028992652\n",
      "Testing with 215 get_unchecked, with 18397 removed\n",
      "2.018379911\n",
      "Testing with 215 get_unchecked, with 18398 removed\n",
      "2.026568814\n",
      "Testing with 215 get_unchecked, with 18405 removed\n",
      "2.027181437\n",
      "Testing with 215 get_unchecked, with 18417 removed\n",
      "2.028758894\n",
      "Testing with 215 get_unchecked, with 18418 removed\n",
      "2.02557723\n",
      "Testing with 215 get_unchecked, with 18443 removed\n",
      "2.029361108\n",
      "Testing with 215 get_unchecked, with 18449 removed\n",
      "2.027614877\n",
      "Testing with 215 get_unchecked, with 18450 removed\n",
      "2.021366623\n",
      "Testing with 215 get_unchecked, with 18451 removed\n",
      "2.018615481\n",
      "Testing with 215 get_unchecked, with 18884 removed\n",
      "2.053220298\n",
      "Testing with 215 get_unchecked, with 18891 removed\n",
      "2.05996421\n",
      "Testing with 215 get_unchecked, with 18913 removed\n",
      "2.02718938\n",
      "Testing with 215 get_unchecked, with 18914 removed\n",
      "2.024818522\n",
      "Testing with 215 get_unchecked, with 18921 removed\n",
      "2.028628454\n",
      "Testing with 215 get_unchecked, with 18937 removed\n",
      "2.026378046\n",
      "Testing with 215 get_unchecked, with 18964 removed\n",
      "2.04084684\n",
      "Testing with 215 get_unchecked, with 18984 removed\n",
      "2.041568009\n",
      "Testing with 215 get_unchecked, with 19070 removed\n",
      "2.024475712\n",
      "Testing with 215 get_unchecked, with 19072 removed\n",
      "2.024356305\n",
      "Testing with 215 get_unchecked, with 19077 removed\n",
      "2.02188283\n",
      "Testing with 215 get_unchecked, with 19081 removed\n",
      "2.024776924\n",
      "Testing with 215 get_unchecked, with 19121 removed\n",
      "2.024887197\n",
      "Testing with 215 get_unchecked, with 19125 removed\n",
      "2.029553313\n",
      "Testing with 215 get_unchecked, with 19133 removed\n",
      "2.034648791\n",
      "Testing with 215 get_unchecked, with 19138 removed\n",
      "2.032942259\n",
      "Testing with 215 get_unchecked, with 19142 removed\n",
      "2.033982097\n",
      "Testing with 215 get_unchecked, with 19184 removed\n",
      "2.019613676\n",
      "Testing with 215 get_unchecked, with 19239 removed\n",
      "2.019600694\n",
      "Testing with 215 get_unchecked, with 19309 removed\n"
     ]
    },
    {
     "name": "stdout",
     "output_type": "stream",
     "text": [
      "2.023240538\n",
      "Testing with 215 get_unchecked, with 19321 removed\n",
      "2.023229019\n",
      "Testing with 215 get_unchecked, with 19325 removed\n",
      "2.022314565\n",
      "Testing with 215 get_unchecked, with 19330 removed\n",
      "2.032861586\n",
      "Testing with 215 get_unchecked, with 19337 removed\n",
      "2.029867756\n",
      "Testing with 215 get_unchecked, with 19473 removed\n",
      "2.030340951\n",
      "Testing with 215 get_unchecked, with 19540 removed\n",
      "2.0197774\n",
      "Testing with 215 get_unchecked, with 19543 removed\n",
      "2.023506978\n",
      "Testing with 215 get_unchecked, with 19581 removed\n",
      "2.032623225\n",
      "Testing with 215 get_unchecked, with 19592 removed\n",
      "2.026093985\n",
      "Testing with 215 get_unchecked, with 19638 removed\n",
      "2.020262653\n",
      "Testing with 215 get_unchecked, with 19642 removed\n",
      "2.022003257\n",
      "Testing with 215 get_unchecked, with 19646 removed\n",
      "2.023476711\n",
      "Testing with 215 get_unchecked, with 19647 removed\n",
      "2.0276066\n",
      "Testing with 215 get_unchecked, with 19651 removed\n",
      "2.018867013\n",
      "Testing with 215 get_unchecked, with 19908 removed\n",
      "2.027161498\n",
      "Testing with 215 get_unchecked, with 19918 removed\n",
      "2.027259046\n",
      "Testing with 215 get_unchecked, with 19945 removed\n",
      "2.034640264\n",
      "Testing with 215 get_unchecked, with 20083 removed\n",
      "2.023951282\n",
      "Testing with 215 get_unchecked, with 20094 removed\n",
      "2.021969929\n",
      "Testing with 215 get_unchecked, with 20119 removed\n",
      "2.020533848\n",
      "Testing with 215 get_unchecked, with 20128 removed\n",
      "2.019349786\n",
      "Testing with 215 get_unchecked, with 20130 removed\n",
      "2.019523693\n",
      "Testing with 215 get_unchecked, with 20133 removed\n",
      "2.022190201\n",
      "Testing with 215 get_unchecked, with 20134 removed\n",
      "2.023124439\n",
      "Testing with 215 get_unchecked, with 20135 removed\n",
      "2.022269658\n",
      "Testing with 215 get_unchecked, with 20148 removed\n",
      "2.021232953\n",
      "Testing with 215 get_unchecked, with 20153 removed\n",
      "2.03194432\n",
      "Testing with 215 get_unchecked, with 20159 removed\n",
      "2.030797253\n",
      "Testing with 215 get_unchecked, with 20164 removed\n",
      "2.028552452\n",
      "Testing with 215 get_unchecked, with 20169 removed\n",
      "2.031249431\n",
      "Testing with 215 get_unchecked, with 20174 removed\n",
      "2.030205917\n",
      "Testing with 215 get_unchecked, with 20194 removed\n",
      "2.021655455\n",
      "Testing with 215 get_unchecked, with 20200 removed\n",
      "2.025097482\n",
      "Testing with 215 get_unchecked, with 20206 removed\n",
      "2.025791524\n",
      "Testing with 215 get_unchecked, with 20209 removed\n",
      "2.025467271\n",
      "Testing with 215 get_unchecked, with 20247 removed\n",
      "2.023625562\n",
      "Testing with 215 get_unchecked, with 20291 removed\n",
      "2.021990817\n",
      "Testing with 215 get_unchecked, with 20295 removed\n",
      "2.02123622\n",
      "Testing with 215 get_unchecked, with 20548 removed\n",
      "2.028205642\n",
      "Testing with 215 get_unchecked, with 20552 removed\n",
      "2.026323806\n",
      "Testing with 215 get_unchecked, with 20613 removed\n",
      "2.023525796\n",
      "Testing with 215 get_unchecked, with 20624 removed\n",
      "2.021392873\n",
      "Testing with 215 get_unchecked, with 20658 removed\n",
      "2.024659352\n",
      "Testing with 215 get_unchecked, with 20665 removed\n",
      "2.022360051\n",
      "Testing with 215 get_unchecked, with 20677 removed\n",
      "2.021537065\n",
      "Testing with 215 get_unchecked, with 20719 removed\n",
      "2.021895252\n",
      "Testing with 215 get_unchecked, with 20746 removed\n",
      "2.025347562\n",
      "Testing with 215 get_unchecked, with 20752 removed\n",
      "2.024720962\n",
      "Testing with 215 get_unchecked, with 20759 removed\n",
      "2.030463473\n",
      "Testing with 215 get_unchecked, with 20764 removed\n",
      "2.028450195\n",
      "Testing with 215 get_unchecked, with 20791 removed\n",
      "2.019096792\n",
      "Testing with 215 get_unchecked, with 20957 removed\n",
      "2.020664995\n",
      "Testing with 215 get_unchecked, with 20993 removed\n",
      "2.021032862\n",
      "Testing with 215 get_unchecked, with 21009 removed\n",
      "2.022365913\n",
      "Testing with 215 get_unchecked, with 21023 removed\n",
      "2.021527646\n",
      "Testing with 215 get_unchecked, with 21039 removed\n",
      "2.034643405\n",
      "Testing with 215 get_unchecked, with 21060 removed\n",
      "2.025896398\n",
      "Testing with 215 get_unchecked, with 21066 removed\n",
      "2.025898996\n",
      "Testing with 215 get_unchecked, with 21087 removed\n",
      "2.02327989\n",
      "Testing with 215 get_unchecked, with 21097 removed\n",
      "2.025001159\n",
      "Testing with 215 get_unchecked, with 21117 removed\n",
      "2.024363931\n",
      "Testing with 215 get_unchecked, with 21146 removed\n",
      "2.019801998\n",
      "Testing with 215 get_unchecked, with 21154 removed\n",
      "2.020309741\n",
      "Testing with 215 get_unchecked, with 21176 removed\n",
      "2.026762781\n",
      "Testing with 215 get_unchecked, with 21181 removed\n",
      "2.02301192\n",
      "Testing with 215 get_unchecked, with 21218 removed\n",
      "2.022004769\n",
      "Testing with 215 get_unchecked, with 21223 removed\n",
      "2.027539754\n",
      "Testing with 215 get_unchecked, with 21265 removed\n",
      "2.023311872\n",
      "Testing with 215 get_unchecked, with 21273 removed\n",
      "2.02187782\n",
      "Testing with 215 get_unchecked, with 21336 removed\n",
      "2.023841821\n",
      "Testing with 215 get_unchecked, with 21392 removed\n",
      "2.036422057\n",
      "Testing with 215 get_unchecked, with 21397 removed\n",
      "2.032354191\n",
      "Testing with 215 get_unchecked, with 21630 removed\n",
      "2.027760241\n",
      "Testing with 215 get_unchecked, with 21633 removed\n",
      "2.02884063\n",
      "Testing with 215 get_unchecked, with 21639 removed\n",
      "2.02664131\n",
      "Testing with 215 get_unchecked, with 21676 removed\n",
      "2.024531332\n",
      "Testing with 215 get_unchecked, with 21681 removed\n",
      "2.026831166\n",
      "Testing with 215 get_unchecked, with 21870 removed\n",
      "2.023026886\n",
      "Testing with 215 get_unchecked, with 21880 removed\n",
      "2.029814551\n",
      "Testing with 215 get_unchecked, with 21886 removed\n",
      "2.025242084\n",
      "Testing with 215 get_unchecked, with 21906 removed\n",
      "2.027618336\n",
      "Testing with 215 get_unchecked, with 21973 removed\n",
      "2.025997369\n",
      "Testing with 215 get_unchecked, with 22005 removed\n",
      "2.02382332\n",
      "Testing with 215 get_unchecked, with 22030 removed\n",
      "2.023205394\n",
      "Testing with 215 get_unchecked, with 22063 removed\n",
      "2.022819197\n",
      "Testing with 215 get_unchecked, with 22084 removed\n",
      "2.022209661\n",
      "binary generated\n",
      "### Round 1 :  216 runs, 130 get_unchecked left\n",
      "### New baseline: 2.018048531\n",
      "Keep sensitivity 0.001\n",
      "Generating exps\n",
      "Testing with 129 get_unchecked, with 11347 removed\n",
      "2.033243115\n",
      "Testing with 129 get_unchecked, with 11525 removed\n",
      "2.023492093\n",
      "Testing with 129 get_unchecked, with 11672 removed\n",
      "2.038096292\n",
      "Testing with 129 get_unchecked, with 11675 removed\n",
      "2.027630741\n",
      "Testing with 129 get_unchecked, with 11896 removed\n",
      "2.024242629\n",
      "Testing with 129 get_unchecked, with 11903 removed\n",
      "2.020808056\n",
      "Testing with 129 get_unchecked, with 11944 removed\n",
      "2.01638133\n",
      "Testing with 129 get_unchecked, with 11945 removed\n",
      "2.014910878\n",
      "Testing with 129 get_unchecked, with 11951 removed\n",
      "2.01715139\n",
      "Testing with 129 get_unchecked, with 11952 removed\n",
      "2.017289946\n",
      "Testing with 129 get_unchecked, with 11957 removed\n",
      "2.018882347\n",
      "Testing with 129 get_unchecked, with 11988 removed\n",
      "2.018267023\n",
      "Testing with 129 get_unchecked, with 12017 removed\n",
      "2.017071567\n",
      "Testing with 129 get_unchecked, with 12065 removed\n",
      "2.014486727\n",
      "Testing with 129 get_unchecked, with 12084 removed\n",
      "2.016210387\n",
      "Testing with 129 get_unchecked, with 12115 removed\n",
      "2.011198695\n",
      "Testing with 129 get_unchecked, with 12139 removed\n",
      "2.016015017\n",
      "Testing with 129 get_unchecked, with 12209 removed\n",
      "2.017408134\n",
      "Testing with 129 get_unchecked, with 12220 removed\n",
      "2.016644543\n",
      "Testing with 129 get_unchecked, with 18371 removed\n",
      "2.014478201\n",
      "Testing with 129 get_unchecked, with 18372 removed\n",
      "2.01354062\n",
      "Testing with 129 get_unchecked, with 18373 removed\n",
      "2.016672367\n",
      "Testing with 129 get_unchecked, with 18374 removed\n",
      "2.017885778\n",
      "Testing with 129 get_unchecked, with 18379 removed\n",
      "2.014828327\n",
      "Testing with 129 get_unchecked, with 18396 removed\n",
      "2.014469743\n",
      "Testing with 129 get_unchecked, with 18398 removed\n",
      "2.016781998\n",
      "Testing with 129 get_unchecked, with 18405 removed\n",
      "2.015953852\n",
      "Testing with 129 get_unchecked, with 18417 removed\n",
      "2.018985767\n",
      "Testing with 129 get_unchecked, with 18418 removed\n",
      "2.020316549\n",
      "Testing with 129 get_unchecked, with 18443 removed\n",
      "2.016591614\n",
      "Testing with 129 get_unchecked, with 18449 removed\n",
      "2.017856324\n",
      "Testing with 129 get_unchecked, with 18450 removed\n",
      "2.017892118\n",
      "Testing with 129 get_unchecked, with 18884 removed\n",
      "2.049121406\n",
      "Testing with 129 get_unchecked, with 18891 removed\n",
      "2.052672761\n",
      "Testing with 129 get_unchecked, with 18913 removed\n",
      "2.021813564\n",
      "Testing with 129 get_unchecked, with 18914 removed\n",
      "2.019077273\n",
      "Testing with 129 get_unchecked, with 18921 removed\n",
      "2.018826908\n",
      "Testing with 129 get_unchecked, with 18937 removed\n",
      "2.018553043\n",
      "Testing with 129 get_unchecked, with 18964 removed\n",
      "2.039671135\n",
      "Testing with 129 get_unchecked, with 18984 removed\n",
      "2.036144541\n",
      "Testing with 129 get_unchecked, with 19070 removed\n",
      "2.017956249\n",
      "Testing with 129 get_unchecked, with 19072 removed\n",
      "2.019480385\n",
      "Testing with 129 get_unchecked, with 19077 removed\n"
     ]
    },
    {
     "name": "stdout",
     "output_type": "stream",
     "text": [
      "2.016268392\n",
      "Testing with 129 get_unchecked, with 19081 removed\n",
      "2.017143394\n",
      "Testing with 129 get_unchecked, with 19121 removed\n",
      "2.018111334\n",
      "Testing with 129 get_unchecked, with 19125 removed\n",
      "2.019975173\n",
      "Testing with 129 get_unchecked, with 19133 removed\n",
      "2.018798754\n",
      "Testing with 129 get_unchecked, with 19138 removed\n",
      "2.015861075\n",
      "Testing with 129 get_unchecked, with 19142 removed\n",
      "2.019231696\n",
      "Testing with 129 get_unchecked, with 19309 removed\n",
      "2.015106225\n",
      "Testing with 129 get_unchecked, with 19321 removed\n",
      "2.015350602\n",
      "Testing with 129 get_unchecked, with 19325 removed\n",
      "2.012457872\n",
      "Testing with 129 get_unchecked, with 19330 removed\n",
      "2.017676556\n",
      "Testing with 129 get_unchecked, with 19337 removed\n",
      "2.013632398\n",
      "Testing with 129 get_unchecked, with 19473 removed\n",
      "2.015544413\n",
      "Testing with 129 get_unchecked, with 19543 removed\n",
      "2.013207276\n",
      "Testing with 129 get_unchecked, with 19581 removed\n",
      "2.013643759\n",
      "Testing with 129 get_unchecked, with 19592 removed\n",
      "2.01786821\n",
      "Testing with 129 get_unchecked, with 19638 removed\n",
      "2.016655147\n",
      "Testing with 129 get_unchecked, with 19642 removed\n",
      "2.016748669\n",
      "Testing with 129 get_unchecked, with 19646 removed\n",
      "2.014141823\n",
      "Testing with 129 get_unchecked, with 19647 removed\n",
      "2.015218574\n",
      "Testing with 129 get_unchecked, with 19908 removed\n",
      "2.019291225\n",
      "Testing with 129 get_unchecked, with 19918 removed\n",
      "2.020234048\n",
      "Testing with 129 get_unchecked, with 19945 removed\n",
      "2.018535736\n",
      "Testing with 129 get_unchecked, with 20083 removed\n",
      "2.016070177\n",
      "Testing with 129 get_unchecked, with 20094 removed\n",
      "2.013199161\n",
      "Testing with 129 get_unchecked, with 20119 removed\n",
      "2.015156745\n",
      "Testing with 129 get_unchecked, with 20133 removed\n",
      "2.016617711\n",
      "Testing with 129 get_unchecked, with 20134 removed\n",
      "2.016788785\n",
      "Testing with 129 get_unchecked, with 20135 removed\n",
      "2.016210543\n",
      "Testing with 129 get_unchecked, with 20148 removed\n",
      "2.015453135\n",
      "Testing with 129 get_unchecked, with 20153 removed\n",
      "2.01523747\n",
      "Testing with 129 get_unchecked, with 20159 removed\n",
      "2.007356943\n",
      "Testing with 129 get_unchecked, with 20164 removed\n",
      "2.014186082\n",
      "Testing with 129 get_unchecked, with 20169 removed\n",
      "2.008657567\n",
      "Testing with 129 get_unchecked, with 20174 removed\n",
      "2.011312914\n",
      "Testing with 129 get_unchecked, with 20194 removed\n",
      "2.015260379\n",
      "Testing with 129 get_unchecked, with 20200 removed\n",
      "2.01087132\n",
      "Testing with 129 get_unchecked, with 20206 removed\n",
      "2.01124721\n",
      "Testing with 129 get_unchecked, with 20209 removed\n",
      "2.009397514\n",
      "Testing with 129 get_unchecked, with 20247 removed\n",
      "2.012034376\n",
      "Testing with 129 get_unchecked, with 20291 removed\n",
      "2.014465481\n",
      "Testing with 129 get_unchecked, with 20295 removed\n",
      "2.025328934\n",
      "Testing with 129 get_unchecked, with 20548 removed\n",
      "2.016276555\n",
      "Testing with 129 get_unchecked, with 20552 removed\n",
      "2.012168678\n",
      "Testing with 129 get_unchecked, with 20613 removed\n",
      "2.01657674\n",
      "Testing with 129 get_unchecked, with 20624 removed\n",
      "2.01280595\n",
      "Testing with 129 get_unchecked, with 20658 removed\n",
      "2.015477213\n",
      "Testing with 129 get_unchecked, with 20665 removed\n",
      "2.014335331\n",
      "Testing with 129 get_unchecked, with 20677 removed\n",
      "2.013628184\n",
      "Testing with 129 get_unchecked, with 20719 removed\n",
      "2.014405945\n",
      "Testing with 129 get_unchecked, with 20746 removed\n",
      "2.024451298\n",
      "Testing with 129 get_unchecked, with 20752 removed\n",
      "2.01596627\n",
      "Testing with 129 get_unchecked, with 20759 removed\n",
      "2.018051995\n",
      "Testing with 129 get_unchecked, with 20764 removed\n",
      "2.02377369\n",
      "Testing with 129 get_unchecked, with 20957 removed\n",
      "2.012653338\n",
      "Testing with 129 get_unchecked, with 20993 removed\n",
      "2.015711287\n",
      "Testing with 129 get_unchecked, with 21009 removed\n",
      "2.013734067\n",
      "Testing with 129 get_unchecked, with 21023 removed\n",
      "2.013782811\n",
      "Testing with 129 get_unchecked, with 21039 removed\n",
      "2.029944958\n",
      "Testing with 129 get_unchecked, with 21060 removed\n",
      "2.021392475\n",
      "Testing with 129 get_unchecked, with 21066 removed\n",
      "2.020452262\n",
      "Testing with 129 get_unchecked, with 21087 removed\n",
      "2.021290121\n",
      "Testing with 129 get_unchecked, with 21097 removed\n",
      "2.022366995\n",
      "Testing with 129 get_unchecked, with 21117 removed\n",
      "2.019583285\n",
      "Testing with 129 get_unchecked, with 21154 removed\n",
      "2.01993573\n",
      "Testing with 129 get_unchecked, with 21176 removed\n",
      "2.018046494\n",
      "Testing with 129 get_unchecked, with 21181 removed\n",
      "2.020812965\n",
      "Testing with 129 get_unchecked, with 21218 removed\n",
      "2.02068293\n",
      "Testing with 129 get_unchecked, with 21223 removed\n",
      "2.018861796\n",
      "Testing with 129 get_unchecked, with 21265 removed\n",
      "2.016274413\n",
      "Testing with 129 get_unchecked, with 21273 removed\n",
      "2.02183744\n",
      "Testing with 129 get_unchecked, with 21336 removed\n",
      "2.017511458\n",
      "Testing with 129 get_unchecked, with 21392 removed\n",
      "2.02595535\n",
      "Testing with 129 get_unchecked, with 21397 removed\n",
      "2.019609766\n",
      "Testing with 129 get_unchecked, with 21630 removed\n",
      "2.016958507\n",
      "Testing with 129 get_unchecked, with 21633 removed\n",
      "2.018547222\n",
      "Testing with 129 get_unchecked, with 21639 removed\n",
      "2.01919059\n",
      "Testing with 129 get_unchecked, with 21676 removed\n",
      "2.023785792\n",
      "Testing with 129 get_unchecked, with 21681 removed\n",
      "2.025125744\n",
      "Testing with 129 get_unchecked, with 21870 removed\n",
      "2.017706371\n",
      "Testing with 129 get_unchecked, with 21880 removed\n",
      "2.019085552\n",
      "Testing with 129 get_unchecked, with 21886 removed\n",
      "2.017365119\n",
      "Testing with 129 get_unchecked, with 21906 removed\n",
      "2.019542074\n",
      "Testing with 129 get_unchecked, with 21973 removed\n",
      "2.021838297\n",
      "Testing with 129 get_unchecked, with 22005 removed\n",
      "2.016361103\n",
      "Testing with 129 get_unchecked, with 22030 removed\n",
      "2.019211586\n",
      "Testing with 129 get_unchecked, with 22063 removed\n",
      "2.019377788\n",
      "Testing with 129 get_unchecked, with 22084 removed\n",
      "2.019798613\n",
      "binary generated\n",
      "### Round 2 :  130 runs, 28 get_unchecked left\n",
      "### New baseline: 2.066327402\n",
      "Keep sensitivity 0.001\n"
     ]
    }
   ],
   "source": [
    "final_unsafe, final_baseline = explore(2.05, lines) # second try"
   ]
  },
  {
   "cell_type": "code",
   "execution_count": 115,
   "id": "ignored-charles",
   "metadata": {},
   "outputs": [
    {
     "name": "stdout",
     "output_type": "stream",
     "text": [
      "[11347, 11525, 11672, 11675, 11896, 11903, 18418, 18884, 18891, 18913, 18964, 18984, 19918, 20295, 20746, 20764, 21039, 21060, 21066, 21087, 21097, 21181, 21218, 21273, 21392, 21676, 21681, 21973]\n",
      "binary generated\n"
     ]
    },
    {
     "data": {
      "text/plain": [
       "(2.071265889, 2.066436146, 2.107293722)"
      ]
     },
     "execution_count": 115,
     "metadata": {},
     "output_type": "execute_result"
    }
   ],
   "source": [
    "print(final_unsafe)\n",
    "SourceCorvair.quickTestBrotli(final_unsafe)"
   ]
  },
  {
   "cell_type": "code",
   "execution_count": 118,
   "id": "formed-fraction",
   "metadata": {},
   "outputs": [
    {
     "name": "stdout",
     "output_type": "stream",
     "text": [
      "binary generated\n",
      "Initial baseline: 2.023674471\n",
      "Generating exps\n",
      "Testing with 22 get_unchecked, with 18964 removed\n",
      "2.056099065\n",
      "Testing with 22 get_unchecked, with 20746 removed\n",
      "2.037886244\n",
      "Testing with 22 get_unchecked, with 20658 removed\n",
      "2.024207188\n",
      "Testing with 22 get_unchecked, with 21039 removed\n",
      "2.051323298\n",
      "Testing with 22 get_unchecked, with 20759 removed\n",
      "2.030313259\n",
      "Testing with 22 get_unchecked, with 21009 removed\n",
      "2.027397395\n",
      "Testing with 22 get_unchecked, with 21066 removed\n",
      "2.023693193\n",
      "Testing with 22 get_unchecked, with 20957 removed\n",
      "2.027271712\n",
      "Testing with 22 get_unchecked, with 21223 removed\n",
      "2.025784319\n",
      "Testing with 22 get_unchecked, with 11347 removed\n",
      "2.045248076\n",
      "Testing with 22 get_unchecked, with 20764 removed\n",
      "2.053846795\n",
      "Testing with 22 get_unchecked, with 21117 removed\n",
      "2.023376022\n",
      "Testing with 22 get_unchecked, with 21146 removed\n",
      "2.020864732\n",
      "Testing with 22 get_unchecked, with 21397 removed\n",
      "2.031310416\n",
      "Testing with 22 get_unchecked, with 20993 removed\n",
      "2.028826918\n",
      "Testing with 22 get_unchecked, with 21176 removed\n",
      "2.038108209\n",
      "Testing with 22 get_unchecked, with 18884 removed\n",
      "2.079893925\n",
      "Testing with 22 get_unchecked, with 18984 removed\n",
      "2.064319781\n",
      "Testing with 22 get_unchecked, with 21097 removed\n",
      "2.049247865\n",
      "Testing with 22 get_unchecked, with 21336 removed\n",
      "2.025303294\n",
      "Testing with 22 get_unchecked, with 21392 removed\n",
      "2.047592644\n",
      "Testing with 22 get_unchecked, with 21087 removed\n",
      "2.047995509\n",
      "Testing with 22 get_unchecked, with 18891 removed\n",
      "2.082347236\n",
      "binary generated\n",
      "### Round 1 :  23 runs, 18 get_unchecked left\n",
      "### New baseline: 2.021180601\n",
      "Keep sensitivity 0.001\n",
      "Generating exps\n",
      "Testing with 17 get_unchecked, with 18964 removed\n",
      "2.061587967\n",
      "Testing with 17 get_unchecked, with 20746 removed\n",
      "2.027248587\n",
      "Testing with 17 get_unchecked, with 21039 removed\n",
      "2.030692842\n",
      "Testing with 17 get_unchecked, with 20759 removed\n",
      "2.02496808\n",
      "Testing with 17 get_unchecked, with 21009 removed\n",
      "2.021966132\n",
      "Testing with 17 get_unchecked, with 20957 removed\n",
      "2.021521929\n",
      "Testing with 17 get_unchecked, with 21223 removed\n",
      "2.024068174\n",
      "Testing with 17 get_unchecked, with 11347 removed\n",
      "2.033603359\n",
      "Testing with 17 get_unchecked, with 20764 removed\n",
      "2.028413315\n",
      "Testing with 17 get_unchecked, with 21397 removed\n",
      "2.018371401\n",
      "Testing with 17 get_unchecked, with 20993 removed\n",
      "2.024870524\n",
      "Testing with 17 get_unchecked, with 21176 removed\n",
      "2.027596041\n",
      "Testing with 17 get_unchecked, with 18884 removed\n",
      "2.080280834\n",
      "Testing with 17 get_unchecked, with 18984 removed\n",
      "2.0473031\n",
      "Testing with 17 get_unchecked, with 21097 removed\n",
      "2.015542303\n",
      "Testing with 17 get_unchecked, with 21392 removed\n",
      "2.053527655\n",
      "Testing with 17 get_unchecked, with 21087 removed\n",
      "2.015752927\n",
      "Testing with 17 get_unchecked, with 18891 removed\n",
      "2.080280714\n",
      "binary generated\n",
      "### Round 2 :  18 runs, 13 get_unchecked left\n",
      "### New baseline: 2.042697518\n",
      "Keep sensitivity 0.001\n",
      "Generating exps\n",
      "Testing with 12 get_unchecked, with 18964 removed\n",
      "2.129073647\n",
      "Testing with 12 get_unchecked, with 20746 removed\n",
      "2.062592495\n",
      "Testing with 12 get_unchecked, with 21039 removed\n",
      "2.04665571\n",
      "Testing with 12 get_unchecked, with 20759 removed\n",
      "2.046244283\n",
      "Testing with 12 get_unchecked, with 21223 removed\n",
      "2.043962712\n",
      "Testing with 12 get_unchecked, with 11347 removed\n",
      "2.09521979\n",
      "Testing with 12 get_unchecked, with 20764 removed\n",
      "2.058922076\n",
      "Testing with 12 get_unchecked, with 20993 removed\n",
      "2.042298203\n",
      "Testing with 12 get_unchecked, with 21176 removed\n",
      "2.050392745\n",
      "Testing with 12 get_unchecked, with 18884 removed\n",
      "2.061954196\n",
      "Testing with 12 get_unchecked, with 18984 removed\n",
      "2.050584037\n",
      "Testing with 12 get_unchecked, with 21392 removed\n",
      "2.04667196\n",
      "Testing with 12 get_unchecked, with 18891 removed\n",
      "2.051664259\n",
      "binary generated\n",
      "### Round 3 :  13 runs, 11 get_unchecked left\n",
      "### New baseline: 2.044458686\n",
      "Keep sensitivity 0.001\n",
      "Generating exps\n",
      "Testing with 10 get_unchecked, with 18964 removed\n",
      "2.13062781\n",
      "Testing with 10 get_unchecked, with 20746 removed\n",
      "2.05743818\n",
      "Testing with 10 get_unchecked, with 21039 removed\n",
      "2.047827706\n",
      "Testing with 10 get_unchecked, with 20759 removed\n",
      "2.040688278\n",
      "Testing with 10 get_unchecked, with 11347 removed\n",
      "2.096151207\n",
      "Testing with 10 get_unchecked, with 20764 removed\n",
      "2.061110847\n",
      "Testing with 10 get_unchecked, with 21176 removed\n",
      "2.050628805\n",
      "Testing with 10 get_unchecked, with 18884 removed\n",
      "2.051528748\n",
      "Testing with 10 get_unchecked, with 18984 removed\n",
      "2.055332984\n",
      "Testing with 10 get_unchecked, with 21392 removed\n",
      "2.044779398\n",
      "Testing with 10 get_unchecked, with 18891 removed\n",
      "2.051316889\n",
      "binary generated\n",
      "### Round 4 :  11 runs, 9 get_unchecked left\n",
      "### New baseline: 2.039072209\n",
      "Keep sensitivity 0.001\n",
      "Generating exps\n",
      "Testing with 8 get_unchecked, with 18964 removed\n",
      "2.152197462\n",
      "Testing with 8 get_unchecked, with 20746 removed\n",
      "2.06394875\n",
      "Testing with 8 get_unchecked, with 21039 removed\n",
      "2.049767139\n",
      "Testing with 8 get_unchecked, with 11347 removed\n",
      "2.139153547\n",
      "Testing with 8 get_unchecked, with 20764 removed\n",
      "2.052274784\n",
      "Testing with 8 get_unchecked, with 21176 removed\n",
      "2.056625339\n",
      "Testing with 8 get_unchecked, with 18884 removed\n",
      "2.056968333\n",
      "Testing with 8 get_unchecked, with 18984 removed\n",
      "2.057617532\n",
      "Testing with 8 get_unchecked, with 18891 removed\n",
      "2.046166473\n",
      "binary generated\n",
      "### Round 5 :  9 runs, 9 get_unchecked left\n",
      "### New baseline: 2.045678522\n",
      "Increase sensitivity to  0.002\n",
      "Generating exps\n",
      "Testing with 8 get_unchecked, with 18964 removed\n",
      "2.161854868\n",
      "Testing with 8 get_unchecked, with 20746 removed\n",
      "2.060541236\n",
      "Testing with 8 get_unchecked, with 21039 removed\n",
      "2.053744454\n",
      "Testing with 8 get_unchecked, with 11347 removed\n",
      "2.143857524\n",
      "Testing with 8 get_unchecked, with 20764 removed\n",
      "2.062687455\n",
      "Testing with 8 get_unchecked, with 21176 removed\n",
      "2.058217378\n",
      "Testing with 8 get_unchecked, with 18884 removed\n",
      "2.059603413\n",
      "Testing with 8 get_unchecked, with 18984 removed\n",
      "2.062921303\n",
      "Testing with 8 get_unchecked, with 18891 removed\n",
      "2.044559694\n",
      "binary generated\n",
      "### Round 6 :  9 runs, 8 get_unchecked left\n",
      "### New baseline: 2.046759126\n",
      "Keep sensitivity 0.002\n",
      "Generating exps\n",
      "Testing with 7 get_unchecked, with 18964 removed\n",
      "2.168918621\n",
      "Testing with 7 get_unchecked, with 20746 removed\n",
      "2.063644595\n",
      "Testing with 7 get_unchecked, with 21039 removed\n",
      "2.07360641\n",
      "Testing with 7 get_unchecked, with 11347 removed\n",
      "2.087864887\n",
      "Testing with 7 get_unchecked, with 20764 removed\n",
      "2.055929701\n",
      "Testing with 7 get_unchecked, with 21176 removed\n",
      "2.059723606\n",
      "Testing with 7 get_unchecked, with 18884 removed\n",
      "2.066930561\n",
      "Testing with 7 get_unchecked, with 18984 removed\n",
      "2.063342473\n",
      "binary generated\n",
      "### Round 7 :  8 runs, 8 get_unchecked left\n",
      "### New baseline: 2.050280157\n",
      "Increase sensitivity to  -0.00013664327728268866\n"
     ]
    }
   ],
   "source": [
    "final_unsafe, final_baseline = explore(2.05, hot_lines[:23]) # third try"
   ]
  },
  {
   "cell_type": "code",
   "execution_count": 119,
   "id": "compatible-humanity",
   "metadata": {
    "scrolled": true
   },
   "outputs": [
    {
     "name": "stdout",
     "output_type": "stream",
     "text": [
      "[18964, 20746, 21039, 11347, 20764, 21176, 18884, 18984]\n",
      "binary generated\n"
     ]
    },
    {
     "data": {
      "text/plain": [
       "(2.08252178, 2.054635347, 2.087331618)"
      ]
     },
     "execution_count": 119,
     "metadata": {},
     "output_type": "execute_result"
    }
   ],
   "source": [
    "print(final_unsafe)\n",
    "SourceCorvair.quickTestBrotli(final_unsafe)"
   ]
  },
  {
   "cell_type": "code",
   "execution_count": 120,
   "id": "abandoned-porter",
   "metadata": {},
   "outputs": [
    {
     "name": "stdout",
     "output_type": "stream",
     "text": [
      "[18964, 20746, 21039, 11347, 20764, 21176, 18884, 18984]\n",
      "binary generated\n"
     ]
    },
    {
     "data": {
      "text/plain": [
       "(2.054575604, 2.049039014, 2.077227076)"
      ]
     },
     "execution_count": 120,
     "metadata": {},
     "output_type": "execute_result"
    }
   ],
   "source": [
    "print(final_unsafe)\n",
    "SourceCorvair.quickTestBrotli(final_unsafe)"
   ]
  },
  {
   "cell_type": "code",
   "execution_count": 123,
   "id": "complete-accessory",
   "metadata": {},
   "outputs": [
    {
     "name": "stdout",
     "output_type": "stream",
     "text": [
      "binary generated\n",
      "Initial baseline: 2.051835954\n",
      "Generating exps\n",
      "Testing with 7 get_unchecked, with 18964 removed\n",
      "2.173214394\n",
      "Testing with 7 get_unchecked, with 20746 removed\n",
      "2.063106491\n",
      "Testing with 7 get_unchecked, with 21039 removed\n",
      "2.072085505\n",
      "Testing with 7 get_unchecked, with 11347 removed\n",
      "2.089060213\n",
      "Testing with 7 get_unchecked, with 20764 removed\n",
      "2.054959202\n",
      "Testing with 7 get_unchecked, with 21176 removed\n",
      "2.05954213\n",
      "Testing with 7 get_unchecked, with 18884 removed\n",
      "2.06513872\n",
      "Testing with 7 get_unchecked, with 18984 removed\n",
      "2.066574409\n",
      "binary generated\n",
      "### Round 1 :  8 runs, 8 get_unchecked left\n",
      "### New baseline: 2.051704877\n",
      "Increase sensitivity to  0.002\n",
      "Generating exps\n",
      "Testing with 7 get_unchecked, with 18964 removed\n",
      "2.178014598\n",
      "Testing with 7 get_unchecked, with 20746 removed\n",
      "2.062261058\n",
      "Testing with 7 get_unchecked, with 21039 removed\n",
      "2.072057566\n",
      "Testing with 7 get_unchecked, with 11347 removed\n",
      "2.087241498\n",
      "Testing with 7 get_unchecked, with 20764 removed\n",
      "2.055494662\n",
      "Testing with 7 get_unchecked, with 21176 removed\n",
      "2.059754664\n",
      "Testing with 7 get_unchecked, with 18884 removed\n",
      "2.064147873\n",
      "Testing with 7 get_unchecked, with 18984 removed\n",
      "2.068539702\n",
      "binary generated\n",
      "### Round 2 :  8 runs, 7 get_unchecked left\n",
      "### New baseline: 2.054179731\n",
      "Keep initial sensitivity 0.001\n",
      "Generating exps\n",
      "Testing with 6 get_unchecked, with 18964 removed\n",
      "2.161586314\n",
      "Testing with 6 get_unchecked, with 20746 removed\n",
      "2.062140219\n",
      "Testing with 6 get_unchecked, with 21039 removed\n",
      "2.084257322\n",
      "Testing with 6 get_unchecked, with 11347 removed\n",
      "2.110203623\n",
      "Testing with 6 get_unchecked, with 21176 removed\n",
      "2.068732645\n",
      "Testing with 6 get_unchecked, with 18884 removed\n",
      "2.064455282\n",
      "Testing with 6 get_unchecked, with 18984 removed\n",
      "2.081881831\n",
      "binary generated\n",
      "### Round 3 :  7 runs, 7 get_unchecked left\n",
      "### New baseline: 2.056605357\n",
      "Increase sensitivity to  0.002\n",
      "Generating exps\n",
      "Testing with 6 get_unchecked, with 18964 removed\n",
      "2.16454671\n",
      "Testing with 6 get_unchecked, with 20746 removed\n",
      "2.060527842\n",
      "Testing with 6 get_unchecked, with 21039 removed\n",
      "2.077643025\n",
      "Testing with 6 get_unchecked, with 11347 removed\n",
      "2.097780335\n",
      "Testing with 6 get_unchecked, with 21176 removed\n",
      "2.063807597\n",
      "Testing with 6 get_unchecked, with 18884 removed\n",
      "2.065585245\n",
      "Testing with 6 get_unchecked, with 18984 removed\n",
      "2.074484076\n",
      "binary generated\n",
      "### Round 4 :  7 runs, 6 get_unchecked left\n",
      "### New baseline: 2.064347234\n",
      "Keep initial sensitivity 0.001\n",
      "Generating exps\n",
      "Testing with 5 get_unchecked, with 18964 removed\n",
      "2.158050136\n",
      "Testing with 5 get_unchecked, with 21039 removed\n",
      "2.066724193\n",
      "Testing with 5 get_unchecked, with 11347 removed\n",
      "2.090294163\n",
      "Testing with 5 get_unchecked, with 21176 removed\n",
      "2.056722516\n",
      "Testing with 5 get_unchecked, with 18884 removed\n",
      "2.073046001\n",
      "Testing with 5 get_unchecked, with 18984 removed\n",
      "2.082220561\n",
      "binary generated\n",
      "### Round 5 :  6 runs, 5 get_unchecked left\n",
      "### New baseline: 2.054598542\n",
      "Keep initial sensitivity 0.001\n",
      "Generating exps\n",
      "Testing with 4 get_unchecked, with 18964 removed\n",
      "2.154162942\n",
      "Testing with 4 get_unchecked, with 21039 removed\n",
      "2.086970451\n",
      "Testing with 4 get_unchecked, with 11347 removed\n",
      "2.100802417\n",
      "Testing with 4 get_unchecked, with 18884 removed\n",
      "2.07372946\n",
      "Testing with 4 get_unchecked, with 18984 removed\n",
      "2.097354271\n",
      "binary generated\n",
      "### Round 6 :  5 runs, 5 get_unchecked left\n",
      "### New baseline: 2.056537749\n",
      "Increase sensitivity to  0.002\n",
      "Generating exps\n",
      "Testing with 4 get_unchecked, with 18964 removed\n",
      "2.149170391\n",
      "Testing with 4 get_unchecked, with 21039 removed\n",
      "2.083482781\n",
      "Testing with 4 get_unchecked, with 11347 removed\n",
      "2.10203719\n",
      "Testing with 4 get_unchecked, with 18884 removed\n",
      "2.077007077\n",
      "Testing with 4 get_unchecked, with 18984 removed\n",
      "2.091724547\n",
      "binary generated\n",
      "### Round 7 :  5 runs, 5 get_unchecked left\n",
      "### New baseline: 2.053219381\n",
      "Increase sensitivity to  0.004\n",
      "Generating exps\n",
      "Testing with 4 get_unchecked, with 18964 removed\n",
      "2.151053849\n",
      "Testing with 4 get_unchecked, with 21039 removed\n",
      "2.080315663\n",
      "Testing with 4 get_unchecked, with 11347 removed\n",
      "2.100274385\n",
      "Testing with 4 get_unchecked, with 18884 removed\n",
      "2.07279718\n",
      "Testing with 4 get_unchecked, with 18984 removed\n",
      "2.090675625\n",
      "binary generated\n",
      "### Round 8 :  5 runs, 5 get_unchecked left\n",
      "### New baseline: 2.05687741\n",
      "Increase sensitivity to  0.008\n",
      "Generating exps\n",
      "Testing with 4 get_unchecked, with 18964 removed\n",
      "2.149972226\n",
      "Testing with 4 get_unchecked, with 21039 removed\n",
      "2.088201441\n",
      "Testing with 4 get_unchecked, with 11347 removed\n",
      "2.102463606\n",
      "Testing with 4 get_unchecked, with 18884 removed\n",
      "2.071228125\n",
      "Testing with 4 get_unchecked, with 18984 removed\n",
      "2.100090572\n",
      "binary generated\n",
      "### Round 9 :  5 runs, 4 get_unchecked left\n",
      "### New baseline: 2.070848333\n",
      "Keep initial sensitivity 0.001\n",
      "Generating exps\n",
      "Testing with 3 get_unchecked, with 18964 removed\n",
      "2.14388756\n",
      "Testing with 3 get_unchecked, with 21039 removed\n",
      "2.079774568\n",
      "Testing with 3 get_unchecked, with 11347 removed\n",
      "2.089708559\n",
      "Testing with 3 get_unchecked, with 18984 removed\n",
      "2.079897475\n",
      "binary generated\n",
      "### Round 10 :  4 runs, 4 get_unchecked left\n",
      "### New baseline: 2.071411912\n",
      "Increase sensitivity to  0.002\n",
      "Generating exps\n",
      "Testing with 3 get_unchecked, with 18964 removed\n",
      "2.138777991\n",
      "Testing with 3 get_unchecked, with 21039 removed\n",
      "2.078497529\n",
      "Testing with 3 get_unchecked, with 11347 removed\n",
      "2.096153257\n",
      "Testing with 3 get_unchecked, with 18984 removed\n",
      "2.080447344\n",
      "binary generated\n",
      "### Round 11 :  4 runs, 4 get_unchecked left\n",
      "### New baseline: 2.069506151\n",
      "Increase sensitivity to  0.004\n",
      "Generating exps\n",
      "Testing with 3 get_unchecked, with 18964 removed\n",
      "2.142422778\n",
      "Testing with 3 get_unchecked, with 21039 removed\n",
      "2.086879219\n",
      "Testing with 3 get_unchecked, with 11347 removed\n",
      "2.096229365\n",
      "Testing with 3 get_unchecked, with 18984 removed\n",
      "2.083032881\n",
      "binary generated\n",
      "### Round 12 :  4 runs, 4 get_unchecked left\n",
      "### New baseline: 2.072789331\n",
      "Increase sensitivity to  0.008\n",
      "Generating exps\n",
      "Testing with 3 get_unchecked, with 18964 removed\n",
      "2.141431412\n",
      "Testing with 3 get_unchecked, with 21039 removed\n",
      "2.082466138\n",
      "Testing with 3 get_unchecked, with 11347 removed\n",
      "2.096740853\n",
      "Testing with 3 get_unchecked, with 18984 removed\n",
      "2.083280994\n",
      "binary generated\n",
      "### Round 13 :  4 runs, 2 get_unchecked left\n",
      "### New baseline: 2.080368916\n",
      "Keep initial sensitivity 0.001\n",
      "Generating exps\n",
      "Testing with 1 get_unchecked, with 18964 removed\n",
      "2.15199507\n",
      "Testing with 1 get_unchecked, with 11347 removed\n",
      "2.163043822\n",
      "binary generated\n",
      "### Round 14 :  2 runs, 2 get_unchecked left\n",
      "### New baseline: 2.082751856\n",
      "Increase sensitivity to  0.002\n",
      "Generating exps\n",
      "Testing with 1 get_unchecked, with 18964 removed\n",
      "2.157673144\n",
      "Testing with 1 get_unchecked, with 11347 removed\n",
      "2.16186393\n",
      "binary generated\n",
      "### Round 15 :  2 runs, 2 get_unchecked left\n",
      "### New baseline: 2.079139153\n",
      "Increase sensitivity to  0.004\n",
      "Generating exps\n",
      "Testing with 1 get_unchecked, with 18964 removed\n",
      "2.153714114\n",
      "Testing with 1 get_unchecked, with 11347 removed\n",
      "2.162448234\n",
      "binary generated\n",
      "### Round 16 :  2 runs, 2 get_unchecked left\n",
      "### New baseline: 2.080858736\n",
      "Increase sensitivity to  0.008\n",
      "Generating exps\n",
      "Testing with 1 get_unchecked, with 18964 removed\n",
      "2.151589181\n",
      "Testing with 1 get_unchecked, with 11347 removed\n",
      "2.163131334\n",
      "binary generated\n",
      "### Round 17 :  2 runs, 2 get_unchecked left\n",
      "### New baseline: 2.083862231\n"
     ]
    }
   ],
   "source": [
    "final_unsafe, final_baseline = explore(2.10, final_unsafe)"
   ]
  },
  {
   "cell_type": "code",
   "execution_count": 124,
   "id": "optimum-operations",
   "metadata": {},
   "outputs": [
    {
     "name": "stdout",
     "output_type": "stream",
     "text": [
      "binary generated\n",
      "Initial baseline: 2.085930939\n",
      "Generating exps\n",
      "Testing with 1 get_unchecked, with 18964 removed\n",
      "2.160615591\n",
      "Testing with 1 get_unchecked, with 11347 removed\n",
      "2.159931494\n",
      "binary generated\n",
      "### Round 1 :  2 runs, 2 get_unchecked left\n",
      "### New baseline: 2.081971956\n",
      "Increase sensitivity to  0.002\n",
      "Generating exps\n",
      "Testing with 1 get_unchecked, with 18964 removed\n",
      "2.157277007\n",
      "Testing with 1 get_unchecked, with 11347 removed\n",
      "2.158002143\n",
      "binary generated\n",
      "### Round 2 :  2 runs, 2 get_unchecked left\n",
      "### New baseline: 2.08389148\n",
      "Increase sensitivity to  0.004\n",
      "Generating exps\n",
      "Testing with 1 get_unchecked, with 18964 removed\n",
      "2.158099582\n",
      "Testing with 1 get_unchecked, with 11347 removed\n",
      "binary generated\n",
      "### Round 3 :  2 runs, 2 get_unchecked left\n",
      "### New baseline: 2.084874388\n",
      "Increase sensitivity to  0.008\n",
      "Generating exps\n",
      "Testing with 1 get_unchecked, with 18964 removed\n",
      "2.161261103\n",
      "Testing with 1 get_unchecked, with 11347 removed\n",
      "2.166031909\n",
      "binary generated\n",
      "### Round 4 :  2 runs, 2 get_unchecked left\n",
      "### New baseline: 2.082962384\n",
      "Increase sensitivity to  0.016\n",
      "Generating exps\n",
      "Testing with 1 get_unchecked, with 18964 removed\n",
      "2.159551059\n",
      "Testing with 1 get_unchecked, with 11347 removed\n",
      "2.162247444\n",
      "binary generated\n",
      "### Round 5 :  2 runs, 2 get_unchecked left\n",
      "### New baseline: 2.081163413\n",
      "Increase sensitivity to  0.032\n",
      "Generating exps\n",
      "Testing with 1 get_unchecked, with 18964 removed\n",
      "2.160082852\n",
      "Testing with 1 get_unchecked, with 11347 removed\n",
      "2.16449445\n",
      "binary generated\n",
      "### Round 6 :  2 runs, 2 get_unchecked left\n",
      "### New baseline: 2.085517463\n"
     ]
    }
   ],
   "source": [
    "final_unsafe, final_baseline = explore(2.15, final_unsafe)"
   ]
  },
  {
   "cell_type": "code",
   "execution_count": 125,
   "id": "separated-class",
   "metadata": {},
   "outputs": [
    {
     "name": "stdout",
     "output_type": "stream",
     "text": [
      "binary generated\n"
     ]
    },
    {
     "data": {
      "text/plain": [
       "(2.029364335, 2.019774662, 2.044814951)"
      ]
     },
     "execution_count": 125,
     "metadata": {},
     "output_type": "execute_result"
    }
   ],
   "source": [
    "SourceCorvair.quickTestBrotli(lines)"
   ]
  },
  {
   "cell_type": "code",
   "execution_count": 127,
   "id": "herbal-accused",
   "metadata": {
    "scrolled": true
   },
   "outputs": [
    {
     "name": "stdout",
     "output_type": "stream",
     "text": [
      "binary generated\n"
     ]
    },
    {
     "data": {
      "text/plain": [
       "(2.03234678, 2.023489406, 2.059720595)"
      ]
     },
     "execution_count": 127,
     "metadata": {},
     "output_type": "execute_result"
    }
   ],
   "source": [
    "SourceCorvair.quickTestBrotli(hot_lines)"
   ]
  },
  {
   "cell_type": "code",
   "execution_count": 128,
   "id": "related-programming",
   "metadata": {},
   "outputs": [
    {
     "data": {
      "text/plain": [
       "91"
      ]
     },
     "execution_count": 128,
     "metadata": {},
     "output_type": "execute_result"
    }
   ],
   "source": [
    "len(hot_lines)"
   ]
  }
 ],
 "metadata": {
  "kernelspec": {
   "display_name": "Python 3",
   "language": "python",
   "name": "python3"
  },
  "language_info": {
   "codemirror_mode": {
    "name": "ipython",
    "version": 3
   },
   "file_extension": ".py",
   "mimetype": "text/x-python",
   "name": "python",
   "nbconvert_exporter": "python",
   "pygments_lexer": "ipython3",
   "version": "3.8.5"
  }
 },
 "nbformat": 4,
 "nbformat_minor": 5
}
